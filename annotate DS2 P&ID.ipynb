{
 "cells": [
  {
   "cell_type": "markdown",
   "metadata": {},
   "source": [
    "This jupyter notebook is used to annotate the BoP calculation results on P&ID of the **second design (DS2)**"
   ]
  },
  {
   "cell_type": "code",
   "execution_count": 1,
   "metadata": {},
   "outputs": [],
   "source": [
    "import matlab.engine\n",
    "from PIL import Image, ImageDraw, ImageFont"
   ]
  },
  {
   "cell_type": "markdown",
   "metadata": {},
   "source": [
    "## Import MATLAB engine"
   ]
  },
  {
   "cell_type": "code",
   "execution_count": 2,
   "metadata": {},
   "outputs": [],
   "source": [
    "eng = matlab.engine.start_matlab()\n",
    "current_dir = eng.pwd()\n",
    "# Add the path to the first BoP design (DS2)\n",
    "eng.addpath(eng.strcat(current_dir, '/BoP/DS2/BoP_function'), nargout=0)"
   ]
  },
  {
   "cell_type": "markdown",
   "metadata": {},
   "source": [
    "## Run MATLAB function to solve for BoP"
   ]
  },
  {
   "cell_type": "code",
   "execution_count": 3,
   "metadata": {},
   "outputs": [],
   "source": [
    "# Inputs:\n",
    "T_env = 30+273.15\n",
    "H_env = 0.8\n",
    "T_cold_aisle = 27+273.15\n",
    "T_hot_aisle = 50+273.15\n",
    "y_H2O_des = 0.013\n",
    "# Output:\n",
    "result = eng.optimal_operation(T_env, H_env, T_cold_aisle, T_hot_aisle, y_H2O_des)"
   ]
  },
  {
   "cell_type": "markdown",
   "metadata": {},
   "source": [
    "## Write results onto P&ID"
   ]
  },
  {
   "cell_type": "code",
   "execution_count": 4,
   "metadata": {},
   "outputs": [],
   "source": [
    "# Create draw object:\n",
    "img = Image.open(\"./images/DS2.jpg\")\n",
    "font = ImageFont.truetype(\"./supp/arial.ttf\", 16)\n",
    "big_font = ImageFont.truetype(\"./supp/arial.ttf\", 20)\n",
    "draw = ImageDraw.Draw(img)"
   ]
  },
  {
   "cell_type": "code",
   "execution_count": 5,
   "metadata": {},
   "outputs": [],
   "source": [
    "draw = ImageDraw.Draw(img)\n",
    "# ANNOTATED ORDER: left to right, high to low:\n",
    "# FC stream information:\n",
    "draw.text((25,125), \"n: \"+\"{:.2e}\".format(result[\"n_CH4_FC\"])\n",
    "          +\" mol/s\\nT: \"+\"{0:.1f}\".format(result[\"T_CH4_FC\"])+\" oC\",\n",
    "          (0,0,0), font=font)\n",
    "draw.text((25,200), \"n: \"+\"{:.2e}\".format(result[\"n_air_FC\"])\n",
    "          +\" mol/s\\nT: \"+\"{0:.1f}\".format(result[\"T_air_FC\"])+\" oC\",\n",
    "          (0,0,0), font=font)\n",
    "draw.text((25,275), \"n: \"+\"{:.2e}\".format(result[\"n_H2O_FC\"])\n",
    "          +\" mol/s\\nT: \"+\"{0:.1f}\".format(result[\"T_H2O_FC\"])+\" oC\",\n",
    "          (0,0,0), font=font)\n",
    "# Flue gas exit:\n",
    "draw.text((100,685), \"n: \"+\"{:.2e}\".format(result[\"n_flue_condensate\"])\n",
    "          +\" mol/s\\nT: \"+\"{0:.1f}\".format(result[\"T_air_1\"])+\" oC\",\n",
    "          (0,0,0), font=font)\n",
    "# FC operation:\n",
    "draw.text((425,275), \"We: \"+\"{0:.0f}\".format(result[\"W_e\"])+\" W\"\n",
    "          +\"\\nEE: \"+\"{0:.2f}\".format(result[\"EE\"]*100)+\" %\",\n",
    "          (0,0,0), font=big_font)\n",
    "# Condensation temperature:\n",
    "draw.text((463,575), \"{0:.1f}\".format(result[\"T_air_1\"])+\"\\n oC\",\n",
    "          (0,0,0), font=font)\n",
    "# Exhaust temperature, out of FC, out of desiccant column:\n",
    "draw.text((625,180), \"n: \"+\"{:.2e}\".format(result[\"n_ex\"])\n",
    "          +\" mol/s\\nT: \"+\"{0:.1f}\".format(result[\"T_ex_FC\"])+\" oC\",\n",
    "          (0,0,0), font=font)\n",
    "draw.text((640,450), \"{0:.1f}\".format(result[\"T_ex_1\"])+\" oC\",\n",
    "          (0,0,0), font=font)\n",
    "\n",
    "# Air loop:\n",
    "# A,ir flow conditions:\n",
    "draw.text((850,180), \"H: \"+\"{0:.1f}\".format(100*result[\"H_air_2\"])+\" %\"\n",
    "          +\"\\nT: \"+\"{0:.1f}\".format(result[\"T_air_2\"])+\" oC\",\n",
    "          (0,0,0), font=font)\n",
    "draw.text((1025,180), \"H: \"+\"{0:.1f}\".format(100*result[\"H_air_3\"])+\" %\"\n",
    "          +\"\\nT: \"+\"{0:.1f}\".format(result[\"T_air_3\"])+\" oC\",\n",
    "          (0,0,0), font=font)\n",
    "draw.text((1225,240), \"H: \"+\"{0:.1f}\".format(100*result[\"H_air_4\"])+\" %\"\n",
    "          +\"\\nT: \"+\"{0:.1f}\".format(result[\"T_air_4\"])+\" oC\",\n",
    "          (0,0,0), font=font)\n",
    "draw.text((1430,350), \"H: \"+\"{0:.1f}\".format(100*result[\"H_air_5\"])+\" %\"\n",
    "          +\"\\nT: \"+\"{0:.1f}\".format(result[\"T_air_5\"])+\" oC\",\n",
    "          (0,0,0), font=font)\n",
    "draw.text((1050,490), \"n: \"+\"{:.2e}\".format(result[\"n_air_1\"])+ \" mol/s\"\n",
    "          +\"\\nH: \"+\"{0:.1f}\".format(100*result[\"H_air_1\"])+\" %\"\n",
    "          +\"\\nT: \"+\"{0:.1f}\".format(result[\"T_air_1\"])+\" oC\",\n",
    "          (0,0,0), font=font)\n",
    "# Energy\n",
    "draw.text((1400,140), \"(\"+\"{0:.0f}\".format(result[\"W_server\"])+\" W)\",\n",
    "          (0,0,0), font=font)\n",
    "draw.text((990,140), \"(\"+\"{0:.0f}\".format(result[\"W_reject_1\"])+\" W)\",\n",
    "          (0,0,0), font=font)\n",
    "draw.text((1280,595), \"(\"+\"{0:.0f}\".format(result[\"W_reject_2\"])+\" W)\",\n",
    "          (0,0,0), font=font)\n",
    "# Water consumption:\n",
    "draw.text((1380,60), \"n: \"+\"{:.2e}\".format(result[\"n_air_loop_H2O_consumption\"])+ \" mol/s\"\n",
    "          +\"\\nT: \"+\"{0:.1f}\".format(result[\"T_H2O_consumption\"])+\" oC\",\n",
    "          (0,0,0), font=font)\n",
    "\n",
    "# Conclusion:\n",
    "draw.text((1000,650), \"T_env: \"+\"{0:.0f}\".format(T_env-273.15)+\" oC\"\n",
    "          +\"\\nH_env: \"+\"{0:.0f}\".format(H_env*100)+\" %\"\n",
    "          +\"\\nnet water: \"+\"{0:+.2e}\".format(result[\"net_water\"])+\" mol/s\",\n",
    "          (0,0,0), font=big_font)"
   ]
  },
  {
   "cell_type": "code",
   "execution_count": 6,
   "metadata": {},
   "outputs": [],
   "source": [
    "img.save(\"DS2-an.jpg\")"
   ]
  },
  {
   "cell_type": "code",
   "execution_count": null,
   "metadata": {},
   "outputs": [],
   "source": []
  }
 ],
 "metadata": {
  "kernelspec": {
   "display_name": "Python 3",
   "language": "python",
   "name": "python3"
  },
  "language_info": {
   "codemirror_mode": {
    "name": "ipython",
    "version": 3
   },
   "file_extension": ".py",
   "mimetype": "text/x-python",
   "name": "python",
   "nbconvert_exporter": "python",
   "pygments_lexer": "ipython3",
   "version": "3.8.3"
  }
 },
 "nbformat": 4,
 "nbformat_minor": 2
}
