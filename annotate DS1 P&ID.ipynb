{
 "cells": [
  {
   "cell_type": "markdown",
   "metadata": {},
   "source": [
    "This jupyter notebook is used to annotate the BoP calculation results on P&ID of the **first design (DS1)**"
   ]
  },
  {
   "cell_type": "code",
   "execution_count": 1,
   "metadata": {},
   "outputs": [],
   "source": [
    "import matlab.engine\n",
    "from PIL import Image, ImageDraw, ImageFont"
   ]
  },
  {
   "cell_type": "markdown",
   "metadata": {},
   "source": [
    "## Import MATLAB engine"
   ]
  },
  {
   "cell_type": "code",
   "execution_count": 2,
   "metadata": {},
   "outputs": [],
   "source": [
    "eng = matlab.engine.start_matlab()\n",
    "current_dir = eng.pwd()\n",
    "# Add the path to the first BoP design (DS1)\n",
    "eng.addpath(eng.strcat(current_dir, '/BoP/DS1/BoP_function'), nargout=0)"
   ]
  },
  {
   "cell_type": "markdown",
   "metadata": {},
   "source": [
    "## Run MATLAB function to solve for BoP"
   ]
  },
  {
   "cell_type": "code",
   "execution_count": 3,
   "metadata": {},
   "outputs": [],
   "source": [
    "# Inputs:\n",
    "T_env = 30+273.15\n",
    "H_env = 0.8\n",
    "T_cold_aisle = 27+273.15\n",
    "T_hot_aisle = 50+273.15\n",
    "T_desorp = 120+273.15\n",
    "y_H2O_des = 0.013\n",
    "# Output:\n",
    "result = eng.optimal_operation(T_env, H_env, T_cold_aisle, T_hot_aisle, T_desorp, y_H2O_des)"
   ]
  },
  {
   "cell_type": "markdown",
   "metadata": {},
   "source": [
    "## Write results onto P&ID"
   ]
  },
  {
   "cell_type": "code",
   "execution_count": 4,
   "metadata": {},
   "outputs": [],
   "source": [
    "# Create draw object:\n",
    "img = Image.open(\"./images/DS1.jpg\")\n",
    "font = ImageFont.truetype(\"./supp/arial.ttf\", 16)\n",
    "big_font = ImageFont.truetype(\"./supp/arial.ttf\", 20)\n",
    "draw = ImageDraw.Draw(img)"
   ]
  },
  {
   "cell_type": "code",
   "execution_count": 5,
   "metadata": {},
   "outputs": [],
   "source": [
    "draw = ImageDraw.Draw(img)\n",
    "# CH4 stream information:\n",
    "draw.text((25,200), \"n: \"+\"{:.2e}\".format(result[\"n_CH4_FC\"])\n",
    "          +\" mol/s\\nT: \"+\"{0:.1f}\".format(result[\"T_CH4\"])+\" oC\",\n",
    "          (0,0,0), font=font)\n",
    "# Air stream information:\n",
    "draw.text((25,380), \"n: \"+\"{:.2e}\".format(result[\"n_air_FC\"])\n",
    "          +\" mol/s\\nT: \"+\"{0:.1f}\".format(result[\"T_air\"])+\" oC\",\n",
    "          (0,0,0), font=font)\n",
    "# Water stream information:\n",
    "draw.text((600,480), \"n: \"+\"{:.2e}\".format(result[\"n_H2O_FC\"])+\" mol/s\"\n",
    "          +\"\\nT: \"+\"{0:.1f}\".format(result[\"T_H2O_FC\"])+\" oC\",\n",
    "          (0,0,0), font=font)\n",
    "draw.text((600,550), \"n: \"+\"{:.2e}\".format(result[\"n_H2O_HX0\"])+\" mol/s\",\n",
    "          (0,0,0), font=font)\n",
    "draw.text((975,440), \"n: \"+\"{:.2e}\".format(result[\"n_steam_prod\"])+\" mol/s\",\n",
    "          (0,0,0), font=font)\n",
    "draw.text((500,780), \"n: \"+\"{:.2e}\".format(result[\"n_flue_condensate\"])+\" mol/s\"\n",
    "          +\"\\nT: \"+\"{0:.1f}\".format(result[\"T_air_1\"])+\" oC\",\n",
    "          (0,0,0), font=font)\n",
    "# Temperature into FC:\n",
    "draw.text((470,300), \"{0:.1f}\".format(result[\"T_CH4_FC\"])+\" oC\",\n",
    "          (0,0,0), font=font)\n",
    "draw.text((470,350), \"{0:.1f}\".format(result[\"T_air_FC\"])+\" oC\",\n",
    "          (0,0,0), font=font)\n",
    "# Temperature info exhaust:\n",
    "draw.text((820,350), \"n: \"+\"{:.2e}\".format(result[\"n_ex\"])+ \" mol/s\"\n",
    "          +\"\\nT: \"+\"{0:.1f}\".format(result[\"T_ex_FC\"])+\" oC\",\n",
    "          (0,0,0), font=font)\n",
    "draw.text((600,110), \"n: \"+\"{:.2e}\".format(result[\"n_ex_HX2\"])+\" mol/s\",\n",
    "          (0,0,0), font=font)\n",
    "draw.text((600,170), \"n: \"+\"{:.2e}\".format(result[\"n_ex_HX1\"])+\" mol/s\",\n",
    "          (0,0,0), font=font)\n",
    "draw.text((910,260), \"{0:.1f}\".format(result[\"T_ex_1\"])+\" oC\",\n",
    "          (0,0,0), font=font)\n",
    "draw.text((400,200), \"{0:.1f}\".format(result[\"T_ex_1\"])+\" oC\",\n",
    "          (0,0,0), font=font)\n",
    "draw.text((320,200), \"{0:.1f}\".format(result[\"T_ex_1\"])+\" oC\",\n",
    "          (0,0,0), font=font)\n",
    "draw.text((400,400), \"{0:.1f}\".format(result[\"T_ex_HX1_out\"])+\" oC\",\n",
    "          (0,0,0), font=font)\n",
    "draw.text((320,400), \"{0:.1f}\".format(result[\"T_ex_HX2_out\"])+\" oC\",\n",
    "          (0,0,0), font=font)\n",
    "# Temperature info air, CH4, H2O:\n",
    "draw.text((300,350), \"{0:.1f}\".format(result[\"T_air_HX0_out\"])+\" oC\",\n",
    "          (0,0,0), font=font)\n",
    "draw.text((240,460), \"{0:.1f}\".format(result[\"T_steam_prod\"])+\" oC\",\n",
    "          (0,0,0), font=font)\n",
    "if result[\"q_H2O_HX0_out\"]!=\"NA\":\n",
    "    draw.text((200,100), \"n: \"+\"{:.2e}\".format(result[\"n_H2O_HX0\"])+ \" mol/s\"\n",
    "              +\"\\nquality: \"+\"{0:.2f}\".format(result[\"q_H2O_HX0_out\"])\n",
    "              +\"\\nT: \"+\"{0:.1f}\".format(result[\"T_H2O_HX0_out\"])+\" oC\",\n",
    "              (0,0,0), font=font)\n",
    "else:\n",
    "    draw.text((200,100), \"n: \"+\"{:.2e}\".format(result[\"n_H2O_HX0\"])+ \" mol/s\"\n",
    "              +\"\\nquality: NA\"\n",
    "              +\"\\nT: \"+\"{0:.1f}\".format(result[\"T_H2O_HX0_out\"])+\" oC\",\n",
    "              (0,0,0), font=font)\n",
    "# Air loop:\n",
    "draw.text((1350,430), \"n: \"+\"{:.2e}\".format(result[\"n_air_1\"])+ \" mol/s\"\n",
    "          +\"\\nH: \"+\"{0:.1f}\".format(100*result[\"H_air_1\"])+\" %\"\n",
    "          +\"\\nT: \"+\"{0:.1f}\".format(result[\"T_air_1\"])+\" oC\",\n",
    "          (0,0,0), font=font)\n",
    "draw.text((1125,135), \"H: \"+\"{0:.1f}\".format(100*result[\"H_air_2\"])+\" %\"\n",
    "          +\"\\nT: \"+\"{0:.1f}\".format(result[\"T_air_2\"])+\" oC\",\n",
    "          (0,0,0), font=font)\n",
    "draw.text((1300,135), \"H: \"+\"{0:.1f}\".format(100*result[\"H_air_3\"])+\" %\"\n",
    "          +\"\\nT: \"+\"{0:.1f}\".format(result[\"T_air_3\"])+\" oC\",\n",
    "          (0,0,0), font=font)\n",
    "draw.text((1500,175), \"H: \"+\"{0:.1f}\".format(100*result[\"H_air_4\"])+\" %\"\n",
    "          +\"\\nT: \"+\"{0:.1f}\".format(result[\"T_air_4\"])+\" oC\",\n",
    "          (0,0,0), font=font)\n",
    "draw.text((1710,430), \"H: \"+\"{0:.1f}\".format(100*result[\"H_air_5\"])+\" %\"\n",
    "          +\"\\nT: \"+\"{0:.1f}\".format(result[\"T_air_5\"])+\" oC\",\n",
    "          (0,0,0), font=font)\n",
    "draw.text((1525,90), \"n: \"+\"{:.2e}\".format(result[\"n_air_loop_H2O_consumption\"])+ \" mol/s\"\n",
    "          +\"\\nT: \"+\"{0:.1f}\".format(result[\"T_H2O_consumption\"])+\" oC\",\n",
    "          (0,0,0), font=font)\n",
    "# Energy information:\n",
    "draw.text((625,400), \"We: \"+\"{0:.0f}\".format(result[\"W_e\"])+\" W\"\n",
    "          +\"\\nEE: \"+\"{0:.2f}\".format(result[\"EE\"]*100)+\" %\",\n",
    "          (0,0,0), font=font)\n",
    "draw.text((1680,90), \"(\"+\"{0:.0f}\".format(result[\"W_server\"])+\" W)\",\n",
    "          (0,0,0), font=font)\n",
    "draw.text((1270,90), \"(\"+\"{0:.0f}\".format(result[\"W_reject_1\"])+\" W)\",\n",
    "          (0,0,0), font=font)\n",
    "draw.text((1550,545), \"(\"+\"{0:.0f}\".format(result[\"W_reject_2\"])+\" W)\",\n",
    "          (0,0,0), font=font)\n",
    "# Environment information:\n",
    "draw.text((1400,650), \"T_env: \"+\"{0:.0f}\".format(T_env-273.15)+\" oC\"\n",
    "          +\"\\nH_env: \"+\"{0:.0f}\".format(H_env*100)+\" %\"\n",
    "          +\"\\nnet water: \"+\"{0:+.2e}\".format(result[\"net_water\"])+\" mol/s\",\n",
    "          (0,0,0), font=big_font)"
   ]
  },
  {
   "cell_type": "code",
   "execution_count": 6,
   "metadata": {},
   "outputs": [],
   "source": [
    "img.save(\"DS1-an.jpg\")"
   ]
  },
  {
   "cell_type": "code",
   "execution_count": null,
   "metadata": {},
   "outputs": [],
   "source": []
  }
 ],
 "metadata": {
  "kernelspec": {
   "display_name": "Python 3",
   "language": "python",
   "name": "python3"
  },
  "language_info": {
   "codemirror_mode": {
    "name": "ipython",
    "version": 3
   },
   "file_extension": ".py",
   "mimetype": "text/x-python",
   "name": "python",
   "nbconvert_exporter": "python",
   "pygments_lexer": "ipython3",
   "version": "3.7.4"
  }
 },
 "nbformat": 4,
 "nbformat_minor": 2
}
