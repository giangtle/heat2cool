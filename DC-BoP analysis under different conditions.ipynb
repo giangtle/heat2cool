{
 "cells": [
  {
   "cell_type": "markdown",
   "metadata": {},
   "source": [
    "This jupyter notebook analyze the optimal operation (when fuel cell output meets cooling demand) under different BoP designs.\n",
    "* Various climate conditions.\n",
    "* Hot aisle & cold aisle temperature\n",
    "* Room humidity"
   ]
  },
  {
   "cell_type": "code",
   "execution_count": 1,
   "metadata": {},
   "outputs": [],
   "source": [
    "import numpy as np\n",
    "import matlab.engine\n",
    "import matplotlib.pyplot as plt"
   ]
  },
  {
   "cell_type": "markdown",
   "metadata": {},
   "source": [
    "## DS1 v DS2"
   ]
  },
  {
   "cell_type": "code",
   "execution_count": 2,
   "metadata": {},
   "outputs": [],
   "source": [
    "# DS1:\n",
    "T_cold_aisle = 25+273.15\n",
    "T_hot_aisle = 45+273.15\n",
    "T_desorp = 120+273.15\n",
    "H_env = 0.5\n",
    "T_env_m = np.arange(24,37,2)+273.15\n",
    "yH2O_ads = 0.013"
   ]
  },
  {
   "cell_type": "code",
   "execution_count": 3,
   "metadata": {},
   "outputs": [],
   "source": [
    "# DS1 calculation:\n",
    "eng = matlab.engine.start_matlab()\n",
    "current_dir = eng.pwd()\n",
    "# Add the path to the first BoP design (DS1)\n",
    "eng.addpath(eng.strcat(current_dir, '/BoP/DS1/BoP_function'), nargout=0)"
   ]
  },
  {
   "cell_type": "code",
   "execution_count": 4,
   "metadata": {},
   "outputs": [],
   "source": [
    "# Store results into numpy array:\n",
    "DS1_EE_m = np.zeros(T_env_m.shape)\n",
    "DS1_H_room_m = np.zeros(T_env_m.shape)\n",
    "DS1_net_water_m = np.zeros(T_env_m.shape)\n",
    "# Perform matlab calculations:\n",
    "for i in range(len(T_env_m)):\n",
    "    T_env = float(T_env_m[i])\n",
    "    result = eng.optimal_operation(T_env, H_env, T_cold_aisle, T_hot_aisle, T_desorp, yH2O_ads)\n",
    "    DS1_EE_m[i] = result[\"EE\"]*100\n",
    "    DS1_H_room_m[i] = result[\"H_room\"]*100\n",
    "    DS1_net_water_m[i] = result[\"net_water\"]/result[\"n_H2O_FC\"]*100"
   ]
  },
  {
   "cell_type": "code",
   "execution_count": 5,
   "metadata": {},
   "outputs": [],
   "source": [
    "# DS2 calculation:\n",
    "eng = matlab.engine.start_matlab()\n",
    "current_dir = eng.pwd()\n",
    "# Add the path to the first BoP design (DS2)\n",
    "eng.addpath(eng.strcat(current_dir, '/BoP/DS2/BoP_function'), nargout=0)"
   ]
  },
  {
   "cell_type": "code",
   "execution_count": 6,
   "metadata": {},
   "outputs": [],
   "source": [
    "# Store results into numpy array:\n",
    "DS2_EE_m = np.zeros(T_env_m.shape)\n",
    "DS2_H_room_m = np.zeros(T_env_m.shape)\n",
    "DS2_net_water_m = np.zeros(T_env_m.shape)\n",
    "# Perform matlab calculations:\n",
    "for i in range(len(T_env_m)):\n",
    "    T_env = float(T_env_m[i])\n",
    "    result = eng.optimal_operation(T_env, H_env, T_cold_aisle, T_hot_aisle, yH2O_ads)\n",
    "    DS2_EE_m[i] = result[\"EE\"]*100\n",
    "    DS2_H_room_m[i] = result[\"H_room\"]*100\n",
    "    DS2_net_water_m[i] = result[\"net_water\"]/result[\"n_H2O_FC\"]*100"
   ]
  },
  {
   "cell_type": "code",
   "execution_count": 26,
   "metadata": {},
   "outputs": [
    {
     "data": {
      "text/plain": [
       "[<matplotlib.lines.Line2D at 0x7ffdb4a234d0>]"
      ]
     },
     "execution_count": 26,
     "metadata": {},
     "output_type": "execute_result"
    },
    {
     "data": {
      "image/png": "[encoded data removed]",
      "text/plain": [
       "<Figure size 1080x360 with 3 Axes>"
      ]
     },
     "metadata": {
      "needs_background": "light"
     },
     "output_type": "display_data"
    }
   ],
   "source": [
    "fig, ax = plt.subplots(nrows=1, ncols=3, figsize = (15, 5))\n",
    "ax[0].plot(T_env_m-273.15, DS1_EE_m, linestyle = \"None\", mfc='none', marker=\"s\", mec=\"b\")\n",
    "ax[0].plot(T_env_m-273.15, DS2_EE_m, linestyle = \"None\", mfc='none', marker=\"s\", mec=\"r\")\n",
    "ax[1].plot(T_env_m-273.15, DS1_H_room_m, linestyle = \"None\", mfc='none', marker=\"s\", mec=\"b\")\n",
    "ax[1].plot(T_env_m-273.15, DS2_H_room_m, linestyle = \"None\", mfc='none', marker=\"s\", mec=\"r\")\n",
    "ax[2].plot(T_env_m-273.15, DS1_net_water_m, linestyle = \"None\", mfc='none', marker=\"s\", mec=\"b\")\n",
    "ax[2].plot(T_env_m-273.15, DS2_net_water_m, linestyle = \"None\", mfc='none', marker=\"s\", mec=\"r\")"
   ]
  },
  {
   "cell_type": "markdown",
   "metadata": {},
   "source": [
    "## Aisle conditions"
   ]
  },
  {
   "cell_type": "code",
   "execution_count": 35,
   "metadata": {},
   "outputs": [],
   "source": [
    "T_env_m = np.arange(24,32,2)+273.15\n",
    "H_env = 0.5\n",
    "yH2O_ads = 0.013\n",
    "# condition 1: Hot aisle - 40 C, cold aisle - 20 C.\n",
    "T_cold_aisle = 20+273.15\n",
    "T_hot_aisle = 40+273.15\n",
    "# Store results into numpy array:\n",
    "cond1_EE_m = np.zeros(T_env_m.shape)\n",
    "cond1_H_room_m = np.zeros(T_env_m.shape)\n",
    "cond1_net_water_m = np.zeros(T_env_m.shape)\n",
    "# Perform matlab calculations:\n",
    "for i in range(len(T_env_m)):\n",
    "    T_env = float(T_env_m[i])\n",
    "    result = eng.optimal_operation(T_env, H_env, T_cold_aisle, T_hot_aisle, yH2O_ads)\n",
    "    cond1_EE_m[i] = result[\"EE\"]*100\n",
    "    cond1_H_room_m[i] = result[\"H_room\"]*100\n",
    "    cond1_net_water_m[i] = result[\"net_water\"]/result[\"n_H2O_FC\"]*100"
   ]
  },
  {
   "cell_type": "code",
   "execution_count": 29,
   "metadata": {},
   "outputs": [],
   "source": [
    "# condition 2: Hot aisle - 40 C, cold aisle - 27 C.\n",
    "T_cold_aisle = 27+273.15\n",
    "T_hot_aisle = 40+273.15\n",
    "# Store results into numpy array:\n",
    "cond2_EE_m = np.zeros(T_env_m.shape)\n",
    "cond2_H_room_m = np.zeros(T_env_m.shape)\n",
    "cond2_net_water_m = np.zeros(T_env_m.shape)\n",
    "# Perform matlab calculations:\n",
    "for i in range(len(T_env_m)):\n",
    "    T_env = float(T_env_m[i])\n",
    "    result = eng.optimal_operation(T_env, H_env, T_cold_aisle, T_hot_aisle, yH2O_ads)\n",
    "    cond2_EE_m[i] = result[\"EE\"]*100\n",
    "    cond2_H_room_m[i] = result[\"H_room\"]*100\n",
    "    cond2_net_water_m[i] = result[\"net_water\"]/result[\"n_H2O_FC\"]*100"
   ]
  },
  {
   "cell_type": "code",
   "execution_count": 30,
   "metadata": {},
   "outputs": [],
   "source": [
    "# condition 3: Hot aisle - 50 C, cold aisle - 27 C.\n",
    "T_cold_aisle = 27+273.15\n",
    "T_hot_aisle = 50+273.15\n",
    "# Store results into numpy array:\n",
    "cond3_EE_m = np.zeros(T_env_m.shape)\n",
    "cond3_H_room_m = np.zeros(T_env_m.shape)\n",
    "cond3_net_water_m = np.zeros(T_env_m.shape)\n",
    "# Perform matlab calculations:\n",
    "for i in range(len(T_env_m)):\n",
    "    T_env = float(T_env_m[i])\n",
    "    result = eng.optimal_operation(T_env, H_env, T_cold_aisle, T_hot_aisle, yH2O_ads)\n",
    "    cond3_EE_m[i] = result[\"EE\"]*100\n",
    "    cond3_H_room_m[i] = result[\"H_room\"]*100\n",
    "    cond3_net_water_m[i] = result[\"net_water\"]/result[\"n_H2O_FC\"]*100"
   ]
  },
  {
   "cell_type": "code",
   "execution_count": 36,
   "metadata": {},
   "outputs": [
    {
     "data": {
      "text/plain": [
       "[<matplotlib.lines.Line2D at 0x7ffdb4e72fd0>]"
      ]
     },
     "execution_count": 36,
     "metadata": {},
     "output_type": "execute_result"
    },
    {
     "data": {
      "image/png": "[encoded data removed]",
      "text/plain": [
       "<Figure size 1080x360 with 3 Axes>"
      ]
     },
     "metadata": {
      "needs_background": "light"
     },
     "output_type": "display_data"
    }
   ],
   "source": [
    "T_env_m_1 = np.arange(24,32,2)\n",
    "T_env_m_2 = np.arange(24,37,2)\n",
    "\n",
    "fig, ax = plt.subplots(nrows=1, ncols=3, figsize = (15, 5))\n",
    "ax[0].plot(T_env_m_1, cond1_EE_m, linestyle = \"None\", mfc='none', marker=\"s\", mec=\"b\")\n",
    "ax[0].plot(T_env_m_2, cond2_EE_m, linestyle = \"None\", mfc='none', marker=\"s\", mec=\"r\")\n",
    "ax[0].plot(T_env_m_2, cond3_EE_m, linestyle = \"None\", mfc='none', marker=\"s\", mec=\"m\")\n",
    "ax[1].plot(T_env_m_1, cond1_H_room_m, linestyle = \"None\", mfc='none', marker=\"s\", mec=\"b\")\n",
    "ax[1].plot(T_env_m_2, cond2_H_room_m, linestyle = \"None\", mfc='none', marker=\"s\", mec=\"r\")\n",
    "ax[1].plot(T_env_m_2, cond3_H_room_m, linestyle = \"None\", mfc='none', marker=\"s\", mec=\"m\")\n",
    "ax[2].plot(T_env_m_1, cond1_net_water_m, linestyle = \"None\", mfc='none', marker=\"s\", mec=\"b\")\n",
    "ax[2].plot(T_env_m_2, cond2_net_water_m, linestyle = \"None\", mfc='none', marker=\"s\", mec=\"r\")\n",
    "ax[2].plot(T_env_m_2, cond3_net_water_m, linestyle = \"None\", mfc='none', marker=\"s\", mec=\"m\")"
   ]
  },
  {
   "cell_type": "code",
   "execution_count": null,
   "metadata": {},
   "outputs": [],
   "source": []
  }
 ],
 "metadata": {
  "kernelspec": {
   "display_name": "Python 3",
   "language": "python",
   "name": "python3"
  },
  "language_info": {
   "codemirror_mode": {
    "name": "ipython",
    "version": 3
   },
   "file_extension": ".py",
   "mimetype": "text/x-python",
   "name": "python",
   "nbconvert_exporter": "python",
   "pygments_lexer": "ipython3",
   "version": "3.7.9"
  }
 },
 "nbformat": 4,
 "nbformat_minor": 4
}
