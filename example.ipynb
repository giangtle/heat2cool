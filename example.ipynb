{
 "cells": [
  {
   "cell_type": "code",
   "execution_count": 1,
   "metadata": {},
   "outputs": [],
   "source": [
    "import numpy as np\n",
    "import matlab.engine\n",
    "import matplotlib.pyplot as plt"
   ]
  },
  {
   "cell_type": "code",
   "execution_count": 2,
   "metadata": {},
   "outputs": [],
   "source": [
    "eng = matlab.engine.start_matlab()\n",
    "current_dir = eng.pwd()\n",
    "# Add the path to the first BoP design (DS1)\n",
    "eng.addpath(eng.strcat(current_dir, '/BoP/'), nargout=0)\n",
    "eng.addpath(eng.strcat(current_dir, '/BoP/sub_function'), nargout=0)"
   ]
  },
  {
   "cell_type": "code",
   "execution_count": 3,
   "metadata": {},
   "outputs": [],
   "source": [
    "def print_solution(BoP):\n",
    "    print(\"Variable\\tValue\\tUnit\")\n",
    "    for (k, v) in BoP.items():\n",
    "        if k[0] == \"n\":\n",
    "            print(k+\"\\t\"+\"{:.2e}\".format(v)+\"\\tmol/s\")\n",
    "        elif k[0] == \"y\" or k[0] == \"H\":\n",
    "            print(k+\"\\t\"+\"{:.2f}\".format(v*100)+\"\\t%\")\n",
    "        elif k[0] == \"W\":\n",
    "            print(k+\"\\t\"+\"{:.1f}\".format(v)+\"\\tWatts\")\n",
    "        elif k == \"EE\":\n",
    "            print(k+\"\\t\"+\"{:.1f}\".format(v*100)+\"\\t%\")\n",
    "        elif k[0] == \"w\":\n",
    "            print(k+\"\\t\"+\"{:.2e}\".format(v)+\"\\tmol/s\")\n",
    "        elif k[0] == \"T\":\n",
    "            print(k+\"\\t\"+\"{:.1f}\".format(v)+\"\\toC\")\n",
    "        elif k[0] == \"t\":\n",
    "            print(k+\"\\t\"+\"{:.1f}\".format(v)+\"\\ts\")\n",
    "        else:\n",
    "            print(k+\"\\t\"+\"{:.1f}\".format(v))\n",
    "    return"
   ]
  },
  {
   "cell_type": "markdown",
   "metadata": {},
   "source": [
    "## Example 1\n",
    "Use solve_BOP.m to determine possible waste heat cooling potential."
   ]
  },
  {
   "cell_type": "code",
   "execution_count": 4,
   "metadata": {},
   "outputs": [],
   "source": [
    "# Declare the data center conditions:\n",
    "T_cold_aisle = 20+273.15\n",
    "T_hot_aisle = 40+273.15\n",
    "T_env = 27+273.15\n",
    "H_env = 0.7\n",
    "H_room = 0.8\n",
    "\n",
    "# The load of servers\n",
    "W_e = 1500.0\n",
    "\n",
    "# Use base_case.m to create the stream variables - CH4, H2O, air:\n",
    "CH4, H2O, air = eng.base_case(T_env, H_env, nargout = 3)\n",
    "\n",
    "# Run solver:\n",
    "BoP = eng.solve_BoP(air, CH4, H2O, W_e, T_env, T_cold_aisle, T_hot_aisle, H_room)"
   ]
  },
  {
   "cell_type": "code",
   "execution_count": 5,
   "metadata": {
    "scrolled": false
   },
   "outputs": [
    {
     "name": "stdout",
     "output_type": "stream",
     "text": [
      "Variable\tValue\tUnit\n",
      "LHV\t2500.2\n",
      "EE\t60.0\t%\n",
      "W_e\t1500.0\tWatts\n",
      "W_server\t549.0\tWatts\n",
      "W_reject_1\t392.9\tWatts\n",
      "W_reject_2\t219.7\tWatts\n",
      "W_condenser\t885.7\tWatts\n",
      "n_CH4_FC\t3.12e-03\tmol/s\n",
      "n_H2O_FC\t6.23e-03\tmol/s\n",
      "n_air_FC\t1.09e-01\tmol/s\n",
      "yH2O_air_FC\t2.49\t%\n",
      "yO2_air_FC\t20.48\t%\n",
      "yN2_air_FC\t77.03\t%\n",
      "n_ex\t1.26e-01\tmol/s\n",
      "yH2O_ex\t18.20\t%\n",
      "yCO2_ex\t2.47\t%\n",
      "yO2_ex\t12.76\t%\n",
      "yN2_ex\t66.57\t%\n",
      "n_air_1\t9.38e-01\tmol/s\n",
      "yH2O_air_1\t1.87\t%\n",
      "yO2_air_1\t20.61\t%\n",
      "yN2_air_1\t77.52\t%\n",
      "H_room\t80.00\t%\n",
      "water_consumption_from_air_loop\t7.47e-03\tmol/s\n",
      "water_consumption_from_FC\t6.23e-03\tmol/s\n",
      "water_collected\t1.78e-02\tmol/s\n",
      "net_water\t4.12e-03\tmol/s\n",
      "T_CH4_FC\t27.0\toC\n",
      "T_H2O_FC\t27.0\toC\n",
      "T_air_FC\t27.0\toC\n",
      "T_ex_FC\t187.8\toC\n",
      "T_ex_1\t60.0\toC\n",
      "T_ex_2\t32.0\toC\n",
      "T_desorp\t60.0\toC\n",
      "T_air_1\t32.0\toC\n",
      "T_air_2\t46.4\toC\n",
      "T_air_3\t32.0\toC\n",
      "T_air_4\t20.0\toC\n",
      "T_air_5\t40.0\toC\n",
      "T_H2O_consumption\t27.0\toC\n",
      "H_air_1\t39.36\t%\n",
      "H_air_2\t10.51\t%\n",
      "H_air_3\t22.78\t%\n",
      "H_air_4\t80.00\t%\n",
      "H_air_5\t25.39\t%\n",
      "mDesiccant\t5000.0\n",
      "capacity\t0.2\n",
      "t_cycle\t7431.7\ts\n"
     ]
    }
   ],
   "source": [
    "print_solution(BoP)"
   ]
  },
  {
   "cell_type": "markdown",
   "metadata": {},
   "source": [
    "## Example 2\n",
    "Use matching_operation.m to determine the electrical output to match the servers cooling with waste heat cooling."
   ]
  },
  {
   "cell_type": "code",
   "execution_count": 6,
   "metadata": {},
   "outputs": [],
   "source": [
    "# Run solver:\n",
    "BoP = eng.matching_operation(T_env, H_env, T_cold_aisle, T_hot_aisle, H_room, CH4, H2O, air)"
   ]
  },
  {
   "cell_type": "code",
   "execution_count": 7,
   "metadata": {},
   "outputs": [
    {
     "name": "stdout",
     "output_type": "stream",
     "text": [
      "Variable\tValue\tUnit\n",
      "LHV\t2500.2\n",
      "EE\t42.0\t%\n",
      "W_e\t1049.9\tWatts\n",
      "W_server\t1049.9\tWatts\n",
      "W_reject_1\t759.0\tWatts\n",
      "W_reject_2\t420.1\tWatts\n",
      "W_condenser\t1232.7\tWatts\n",
      "n_CH4_FC\t3.12e-03\tmol/s\n",
      "n_H2O_FC\t6.23e-03\tmol/s\n",
      "n_air_FC\t1.09e-01\tmol/s\n",
      "yH2O_air_FC\t2.49\t%\n",
      "yO2_air_FC\t20.48\t%\n",
      "yN2_air_FC\t77.03\t%\n",
      "n_ex\t1.34e-01\tmol/s\n",
      "yH2O_ex\t22.68\t%\n",
      "yCO2_ex\t2.33\t%\n",
      "yO2_ex\t12.06\t%\n",
      "yN2_ex\t62.92\t%\n",
      "n_air_1\t1.79e+00\tmol/s\n",
      "yH2O_air_1\t1.87\t%\n",
      "yO2_air_1\t20.61\t%\n",
      "yN2_air_1\t77.52\t%\n",
      "H_room\t80.00\t%\n",
      "water_consumption_from_air_loop\t1.43e-02\tmol/s\n",
      "water_consumption_from_FC\t6.23e-03\tmol/s\n",
      "water_collected\t2.51e-02\tmol/s\n",
      "net_water\t4.62e-03\tmol/s\n",
      "T_CH4_FC\t27.0\toC\n",
      "T_H2O_FC\t27.0\toC\n",
      "T_air_FC\t27.0\toC\n",
      "T_ex_FC\t310.2\toC\n",
      "T_ex_1\t65.0\toC\n",
      "T_ex_2\t32.0\toC\n",
      "T_desorp\t65.0\toC\n",
      "T_air_1\t32.0\toC\n",
      "T_air_2\t46.6\toC\n",
      "T_air_3\t32.0\toC\n",
      "T_air_4\t20.0\toC\n",
      "T_air_5\t40.0\toC\n",
      "T_H2O_consumption\t27.0\toC\n",
      "H_air_1\t39.36\t%\n",
      "H_air_2\t10.44\t%\n",
      "H_air_3\t22.78\t%\n",
      "H_air_4\t80.00\t%\n",
      "H_air_5\t25.39\t%\n",
      "mDesiccant\t5000.0\n",
      "capacity\t0.2\n",
      "t_cycle\t3885.9\ts\n"
     ]
    }
   ],
   "source": [
    "print_solution(BoP)"
   ]
  }
 ],
 "metadata": {
  "kernelspec": {
   "display_name": "Python 3",
   "language": "python",
   "name": "python3"
  },
  "language_info": {
   "codemirror_mode": {
    "name": "ipython",
    "version": 3
   },
   "file_extension": ".py",
   "mimetype": "text/x-python",
   "name": "python",
   "nbconvert_exporter": "python",
   "pygments_lexer": "ipython3",
   "version": "3.8.3"
  }
 },
 "nbformat": 4,
 "nbformat_minor": 4
}
